{
 "cells": [
  {
   "cell_type": "code",
   "execution_count": 4,
   "id": "816e3c69",
   "metadata": {},
   "outputs": [],
   "source": [
    "# Tokenization --- break large text into smaller units\n",
    "# paragraph into sentences\n",
    "# sent -- words\n",
    "\n",
    "corpus = \"Hello, how are you? I am fine. What about you? I am also fine.\"\n",
    "from nltk.tokenize import sent_tokenize, word_tokenize\n"
   ]
  },
  {
   "cell_type": "code",
   "execution_count": 5,
   "id": "d4cc51d1",
   "metadata": {},
   "outputs": [
    {
     "name": "stdout",
     "output_type": "stream",
     "text": [
      "Hello, how are you?\n",
      "\n",
      "\n",
      "['Hello', ',', 'how', 'are', 'you', '?']\n",
      "\n",
      "\n",
      "I am fine.\n",
      "\n",
      "\n",
      "['I', 'am', 'fine', '.']\n",
      "\n",
      "\n",
      "What about you?\n",
      "\n",
      "\n",
      "['What', 'about', 'you', '?']\n",
      "\n",
      "\n",
      "I am also fine.\n",
      "\n",
      "\n",
      "['I', 'am', 'also', 'fine', '.']\n",
      "\n",
      "\n"
     ]
    }
   ],
   "source": [
    "# nltk.download('punkt_tab')  # Download the Punkt tokenizer models\n",
    "doc = sent_tokenize(corpus)\n",
    "for i in doc:\n",
    "    print(i)\n",
    "    print('\\n')\n",
    "    print(word_tokenize(i))\n",
    "    print('\\n')"
   ]
  },
  {
   "cell_type": "code",
   "execution_count": 6,
   "id": "9e6e6e30",
   "metadata": {},
   "outputs": [
    {
     "data": {
      "text/plain": [
       "['Hello',\n",
       " ',',\n",
       " 'how',\n",
       " 'are',\n",
       " 'you',\n",
       " '?',\n",
       " 'I',\n",
       " 'am',\n",
       " 'fine',\n",
       " '.',\n",
       " 'What',\n",
       " 'about',\n",
       " 'you',\n",
       " '?',\n",
       " 'I',\n",
       " 'am',\n",
       " 'also',\n",
       " 'fine',\n",
       " '.']"
      ]
     },
     "execution_count": 6,
     "metadata": {},
     "output_type": "execute_result"
    }
   ],
   "source": [
    "# word punct tokenization -- . , ! ? ; : ' \" -\n",
    "# punctuation tokenization \n",
    "from nltk.tokenize import wordpunct_tokenize\n",
    "wordpunct_tokenize(corpus)\n"
   ]
  },
  {
   "cell_type": "code",
   "execution_count": 7,
   "id": "d214f9e5",
   "metadata": {},
   "outputs": [
    {
     "data": {
      "text/plain": [
       "['Hello',\n",
       " ',',\n",
       " 'how',\n",
       " 'are',\n",
       " 'you',\n",
       " '?',\n",
       " 'I',\n",
       " 'am',\n",
       " 'fine.',\n",
       " 'What',\n",
       " 'about',\n",
       " 'you',\n",
       " '?',\n",
       " 'I',\n",
       " 'am',\n",
       " 'also',\n",
       " 'fine',\n",
       " '.']"
      ]
     },
     "execution_count": 7,
     "metadata": {},
     "output_type": "execute_result"
    }
   ],
   "source": [
    "# treebank tokenization ---more accurate tokenization\n",
    "from nltk.tokenize import TreebankWordTokenizer\n",
    "tokenizer = TreebankWordTokenizer()\n",
    "tokenizer.tokenize(corpus)"
   ]
  }
 ],
 "metadata": {
  "kernelspec": {
   "display_name": "Python 3",
   "language": "python",
   "name": "python3"
  },
  "language_info": {
   "codemirror_mode": {
    "name": "ipython",
    "version": 3
   },
   "file_extension": ".py",
   "mimetype": "text/x-python",
   "name": "python",
   "nbconvert_exporter": "python",
   "pygments_lexer": "ipython3",
   "version": "3.11.9"
  }
 },
 "nbformat": 4,
 "nbformat_minor": 5
}
