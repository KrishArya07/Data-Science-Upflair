{
 "cells": [
  {
   "cell_type": "code",
   "execution_count": null,
   "id": "46e6e01a",
   "metadata": {},
   "outputs": [],
   "source": [
    "# nlp is a subfield of ai which helps us to understand human language\n",
    "##rnn ---> text data --> prep-->nlp-->\n",
    "##cnn--> image data---> prep-->IP"
   ]
  },
  {
   "cell_type": "code",
   "execution_count": null,
   "id": "dd6d4939",
   "metadata": {},
   "outputs": [],
   "source": [
    "#preprocess\n",
    "##lowercase\n",
    "##stemming \n",
    "#lemmatization\n",
    "##tokenization\n",
    "##stopword removal\n",
    "##punctuation removal\n",
    "#pos tag \n",
    "#ner - named entity recognition"
   ]
  },
  {
   "cell_type": "code",
   "execution_count": null,
   "id": "12f29be3",
   "metadata": {},
   "outputs": [],
   "source": [
    "##- algo --maths -- text -->numerical(vectors) -->word embeddings \n",
    "#one hot encoding \n",
    "#bag of words\n",
    "#tf-idf\n",
    "#word2vec \n",
    "\n",
    "## pip install nltk "
   ]
  }
 ],
 "metadata": {
  "language_info": {
   "name": "python"
  }
 },
 "nbformat": 4,
 "nbformat_minor": 5
}
