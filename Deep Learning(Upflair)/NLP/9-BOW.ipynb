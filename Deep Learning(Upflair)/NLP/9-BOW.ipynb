{
 "cells": [
  {
   "cell_type": "code",
   "execution_count": 1,
   "id": "8bb40e26",
   "metadata": {},
   "outputs": [],
   "source": [
    "from sklearn.feature_extraction.text import CountVectorizer"
   ]
  },
  {
   "cell_type": "code",
   "execution_count": 3,
   "id": "f83c0d54",
   "metadata": {},
   "outputs": [],
   "source": [
    "docs = [\n",
    "    \"I love programming in Python\",\n",
    "    \"I love programming in Java\",\n",
    "    \"I love programming in C++\",]"
   ]
  },
  {
   "cell_type": "code",
   "execution_count": 4,
   "id": "935e5a47",
   "metadata": {},
   "outputs": [
    {
     "name": "stdout",
     "output_type": "stream",
     "text": [
      "['in' 'java' 'love' 'programming' 'python']\n",
      "[[1 0 1 1 1]\n",
      " [1 1 1 1 0]\n",
      " [1 0 1 1 0]]\n"
     ]
    }
   ],
   "source": [
    "vec = CountVectorizer()\n",
    "x = vec.fit_transform(docs)\n",
    "# to see the vocabulary\n",
    "# print(vec.vocabulary_)\n",
    "print(vec.get_feature_names_out())\n",
    "\n",
    "print(x.toarray())\n"
   ]
  },
  {
   "cell_type": "code",
   "execution_count": null,
   "id": "0102c105",
   "metadata": {},
   "outputs": [],
   "source": []
  }
 ],
 "metadata": {
  "kernelspec": {
   "display_name": "Python 3",
   "language": "python",
   "name": "python3"
  },
  "language_info": {
   "codemirror_mode": {
    "name": "ipython",
    "version": 3
   },
   "file_extension": ".py",
   "mimetype": "text/x-python",
   "name": "python",
   "nbconvert_exporter": "python",
   "pygments_lexer": "ipython3",
   "version": "3.11.9"
  }
 },
 "nbformat": 4,
 "nbformat_minor": 5
}
