{
 "cells": [
  {
   "cell_type": "code",
   "execution_count": null,
   "id": "bee26680",
   "metadata": {},
   "outputs": [],
   "source": [
    "# stemming -- work of this is to reduce the word to its root form \n",
    "# plays , playing , played -- play\n",
    "# runs, running, run--- run"
   ]
  },
  {
   "cell_type": "code",
   "execution_count": 5,
   "id": "9f446cf7",
   "metadata": {},
   "outputs": [],
   "source": [
    "words = [\"plays\",\"playing\",\"played\",\n",
    "         \"run\",\"running\",\"happen\",\n",
    "         \"happening\",\"happen\",\"history\"]"
   ]
  },
  {
   "cell_type": "code",
   "execution_count": 6,
   "id": "d3daf3c5",
   "metadata": {},
   "outputs": [
    {
     "name": "stdout",
     "output_type": "stream",
     "text": [
      "plays --------> play\n",
      "playing --------> play\n",
      "played --------> play\n",
      "run --------> run\n",
      "running --------> run\n",
      "happen --------> happen\n",
      "happening --------> happen\n",
      "happen --------> happen\n",
      "history --------> histori\n"
     ]
    }
   ],
   "source": [
    "# porter stemmer -- the ouput  word  may not be always be  a valid english word\n",
    "from nltk.stem import PorterStemmer\n",
    "ps = PorterStemmer()\n",
    "\n",
    "for word in words:\n",
    "    print(word,\"-------->\",ps.stem(word))"
   ]
  },
  {
   "cell_type": "code",
   "execution_count": 7,
   "id": "45a72c50",
   "metadata": {},
   "outputs": [
    {
     "name": "stdout",
     "output_type": "stream",
     "text": [
      "plays --------> play\n",
      "playing --------> play\n",
      "played --------> play\n",
      "run --------> run\n",
      "running --------> runn\n",
      "happen --------> happen\n",
      "happening --------> happen\n",
      "happen --------> happen\n",
      "history --------> history\n"
     ]
    }
   ],
   "source": [
    "# regex stemmer -- regex is a pattern matching language\n",
    "from nltk.stem import RegexpStemmer\n",
    "rs = RegexpStemmer(\"ing$|s$|ed$|abel$|ible$\")\n",
    "\n",
    "for word in words:\n",
    "    print(word,\"-------->\",rs.stem(word))"
   ]
  },
  {
   "cell_type": "code",
   "execution_count": 8,
   "id": "a4c447c5",
   "metadata": {},
   "outputs": [
    {
     "name": "stdout",
     "output_type": "stream",
     "text": [
      "plays --------> play\n",
      "playing --------> play\n",
      "played --------> play\n",
      "run --------> run\n",
      "running --------> run\n",
      "happen --------> happen\n",
      "happening --------> happen\n",
      "happen --------> happen\n",
      "history --------> histori\n"
     ]
    }
   ],
   "source": [
    "# snowball stemmer -- it is a more advanced version of porter stemmer\n",
    "from nltk.stem import SnowballStemmer\n",
    "ss = SnowballStemmer(\"english\")\n",
    "\n",
    "for word in words:\n",
    "    print(word,\"-------->\",ss.stem(word))"
   ]
  },
  {
   "cell_type": "code",
   "execution_count": null,
   "id": "fc39bed3",
   "metadata": {},
   "outputs": [],
   "source": []
  }
 ],
 "metadata": {
  "kernelspec": {
   "display_name": "Python 3",
   "language": "python",
   "name": "python3"
  },
  "language_info": {
   "codemirror_mode": {
    "name": "ipython",
    "version": 3
   },
   "file_extension": ".py",
   "mimetype": "text/x-python",
   "name": "python",
   "nbconvert_exporter": "python",
   "pygments_lexer": "ipython3",
   "version": "3.11.9"
  }
 },
 "nbformat": 4,
 "nbformat_minor": 5
}
