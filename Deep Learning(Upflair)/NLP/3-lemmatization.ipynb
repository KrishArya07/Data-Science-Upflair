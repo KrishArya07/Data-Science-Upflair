{
 "cells": [
  {
   "cell_type": "code",
   "execution_count": 15,
   "id": "4006ad81",
   "metadata": {},
   "outputs": [],
   "source": [
    "# Lemmatization\n",
    "# work of this is to reduce the words to its dictionary form\n",
    "# using grammer\n",
    "# better -- good\n",
    "# running -- run\n"
   ]
  },
  {
   "cell_type": "code",
   "execution_count": 16,
   "id": "7dc33233",
   "metadata": {},
   "outputs": [
    {
     "name": "stderr",
     "output_type": "stream",
     "text": [
      "[nltk_data] Downloading package wordnet to\n",
      "[nltk_data]     C:\\Users\\krish\\AppData\\Roaming\\nltk_data...\n",
      "[nltk_data]   Package wordnet is already up-to-date!\n",
      "[nltk_data] Downloading package omw-1.4 to\n",
      "[nltk_data]     C:\\Users\\krish\\AppData\\Roaming\\nltk_data...\n",
      "[nltk_data]   Package omw-1.4 is already up-to-date!\n"
     ]
    },
    {
     "data": {
      "text/plain": [
       "True"
      ]
     },
     "execution_count": 16,
     "metadata": {},
     "output_type": "execute_result"
    }
   ],
   "source": [
    "import nltk\n",
    "nltk.download('wordnet')\n",
    "nltk.download('omw-1.4')  # Optional, helps in better lemmatization"
   ]
  },
  {
   "cell_type": "code",
   "execution_count": 17,
   "id": "3ea65328",
   "metadata": {},
   "outputs": [
    {
     "name": "stdout",
     "output_type": "stream",
     "text": [
      "run\n",
      "good\n",
      "good\n"
     ]
    }
   ],
   "source": [
    "from nltk.stem import WordNetLemmatizer\n",
    "lemmatizer = WordNetLemmatizer()\n",
    "print(lemmatizer.lemmatize(\"running\",pos=\"v\"))\n",
    "print(lemmatizer.lemmatize(\"better\",pos=\"a\"))\n",
    "print(lemmatizer.lemmatize(\"good\",pos=\"a\"))"
   ]
  },
  {
   "cell_type": "code",
   "execution_count": 30,
   "id": "7fdecbeb",
   "metadata": {},
   "outputs": [
    {
     "name": "stdout",
     "output_type": "stream",
     "text": [
      "['play', 'play', 'play', 'run', 'run', 'happen', 'happen', 'happen', 'history']\n"
     ]
    }
   ],
   "source": [
    "words = [\"plays\",\"playing\",\"played\",\n",
    "         \"run\",\"running\",\"happen\",\n",
    "         \"happening\",\"happen\",\"history\"]\n",
    "\n",
    "lemmatized_words = [lemmatizer.lemmatize(word, pos=\"v\") for word in words]\n",
    "print(lemmatized_words)"
   ]
  },
  {
   "cell_type": "code",
   "execution_count": null,
   "id": "76eccd59",
   "metadata": {},
   "outputs": [],
   "source": []
  }
 ],
 "metadata": {
  "kernelspec": {
   "display_name": "Python 3",
   "language": "python",
   "name": "python3"
  },
  "language_info": {
   "codemirror_mode": {
    "name": "ipython",
    "version": 3
   },
   "file_extension": ".py",
   "mimetype": "text/x-python",
   "name": "python",
   "nbconvert_exporter": "python",
   "pygments_lexer": "ipython3",
   "version": "3.11.9"
  }
 },
 "nbformat": 4,
 "nbformat_minor": 5
}
