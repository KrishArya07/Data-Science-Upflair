{
 "cells": [
  {
   "cell_type": "code",
   "execution_count": 13,
   "id": "85226a77",
   "metadata": {},
   "outputs": [],
   "source": [
    "# tf - idf \n",
    "# term frequency - inverse document frequency"
   ]
  },
  {
   "cell_type": "code",
   "execution_count": 14,
   "id": "55a5da2e",
   "metadata": {},
   "outputs": [],
   "source": [
    "from sklearn.feature_extraction.text import TfidfVectorizer\n",
    "vectorizer = TfidfVectorizer()"
   ]
  },
  {
   "cell_type": "code",
   "execution_count": 15,
   "id": "59879f51",
   "metadata": {},
   "outputs": [
    {
     "name": "stdout",
     "output_type": "stream",
     "text": [
      "[[0.78980693 0.         0.61335554]\n",
      " [0.         0.78980693 0.61335554]\n",
      " [0.61980538 0.61980538 0.48133417]]\n",
      "{'good': 2, 'boy': 0, 'girl': 1}\n",
      "[1.28768207 1.28768207 1.        ]\n",
      "['boy' 'girl' 'good']\n"
     ]
    }
   ],
   "source": [
    "doc = [\"good boy\", \"good girl\", \"boy girl good\"]\n",
    "print(vectorizer.fit_transform(doc).toarray())\n",
    "print(vectorizer.vocabulary_)\n",
    "print(vectorizer.idf_)\n",
    "print(vectorizer.get_feature_names_out())"
   ]
  },
  {
   "cell_type": "code",
   "execution_count": 16,
   "id": "68019eef",
   "metadata": {},
   "outputs": [],
   "source": [
    "# word embedding --\n",
    "# 1 -- count or frq --- one hot encoding , bow , ngram , tf-idf\n",
    "# 2 -- deep learning pre trained models -- word2vec(Cbow and skipgram), GloVe, fastText\n",
    "# "
   ]
  },
  {
   "cell_type": "code",
   "execution_count": 17,
   "id": "13a8b43f",
   "metadata": {},
   "outputs": [],
   "source": [
    "# word2vec -- google-- 2013 -- news data --300B\n"
   ]
  },
  {
   "cell_type": "code",
   "execution_count": 18,
   "id": "3c37c9db",
   "metadata": {},
   "outputs": [],
   "source": [
    "# cosine similarity "
   ]
  },
  {
   "cell_type": "code",
   "execution_count": 19,
   "id": "df6dd778",
   "metadata": {},
   "outputs": [],
   "source": [
    "# pip  install gensim\n",
    "\n"
   ]
  },
  {
   "cell_type": "code",
   "execution_count": 20,
   "id": "79cf44bb",
   "metadata": {},
   "outputs": [],
   "source": [
    "from gensim.models import Word2Vec \n"
   ]
  },
  {
   "cell_type": "code",
   "execution_count": 21,
   "id": "7d731048",
   "metadata": {},
   "outputs": [],
   "source": [
    "import gensim.downloader as api\n",
    "# Download Google's pre-trained Word2Vec model\n",
    "word2vec_model = api.load(\"word2vec-google-news-300\")"
   ]
  },
  {
   "cell_type": "code",
   "execution_count": 22,
   "id": "a28470b2",
   "metadata": {},
   "outputs": [
    {
     "data": {
      "text/plain": [
       "[('cricketing', 0.8372225761413574),\n",
       " ('cricketers', 0.8165745735168457),\n",
       " ('Test_cricket', 0.8094819188117981),\n",
       " ('Twenty##_cricket', 0.8068488240242004),\n",
       " ('Twenty##', 0.7624265551567078),\n",
       " ('Cricket', 0.75413978099823),\n",
       " ('cricketer', 0.7372578382492065),\n",
       " ('twenty##', 0.7316356897354126),\n",
       " ('T##_cricket', 0.7304614186286926),\n",
       " ('West_Indies_cricket', 0.6987985968589783)]"
      ]
     },
     "execution_count": 22,
     "metadata": {},
     "output_type": "execute_result"
    }
   ],
   "source": [
    "word2vec_model.most_similar(\"cricket\")  # Find words similar to \"king\""
   ]
  },
  {
   "cell_type": "code",
   "execution_count": null,
   "id": "8f802b11",
   "metadata": {},
   "outputs": [],
   "source": []
  }
 ],
 "metadata": {
  "kernelspec": {
   "display_name": "Python 3",
   "language": "python",
   "name": "python3"
  },
  "language_info": {
   "codemirror_mode": {
    "name": "ipython",
    "version": 3
   },
   "file_extension": ".py",
   "mimetype": "text/x-python",
   "name": "python",
   "nbconvert_exporter": "python",
   "pygments_lexer": "ipython3",
   "version": "3.11.9"
  }
 },
 "nbformat": 4,
 "nbformat_minor": 5
}
