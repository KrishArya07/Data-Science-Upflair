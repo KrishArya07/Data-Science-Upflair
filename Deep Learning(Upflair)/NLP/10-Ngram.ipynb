{
 "cells": [
  {
   "cell_type": "code",
   "execution_count": null,
   "id": "6a1fb45b",
   "metadata": {},
   "outputs": [],
   "source": [
    "# food good \n",
    "# food not good \n",
    "\n",
    "# vocab -- (food,good,not)\n",
    "# n-gram -- 1,2,3\n",
    "# 1 -- unigram\n",
    "# 2 -- bigram\n",
    "# 3 -- trigram or multigram\n"
   ]
  },
  {
   "cell_type": "code",
   "execution_count": 1,
   "id": "672937b3",
   "metadata": {},
   "outputs": [],
   "source": [
    "from sklearn.feature_extraction.text import CountVectorizer\n"
   ]
  },
  {
   "cell_type": "code",
   "execution_count": 3,
   "id": "89a8b53c",
   "metadata": {},
   "outputs": [
    {
     "name": "stdout",
     "output_type": "stream",
     "text": [
      "[[1 0 1 0 1 1 1 1 1 0 1 1]\n",
      " [1 1 0 1 1 1 1 1 1 1 0 0]]\n",
      "{'love': 4, 'programming': 7, 'in': 0, 'python': 11, 'love programming': 5, 'programming in': 8, 'in python': 2, 'love programming in': 6, 'programming in python': 10, 'java': 3, 'in java': 1, 'programming in java': 9}\n",
      "['in' 'in java' 'in python' 'java' 'love' 'love programming'\n",
      " 'love programming in' 'programming' 'programming in'\n",
      " 'programming in java' 'programming in python' 'python']\n"
     ]
    }
   ],
   "source": [
    "text = [    \"I love programming in Python\",\n",
    "    \"I love programming in Java\",]\n",
    "\n",
    "cv = CountVectorizer(ngram_range=(1, 3))\n",
    "print(cv.fit_transform(text).toarray())\n",
    "print(cv.vocabulary_)\n",
    "print(cv.get_feature_names_out())"
   ]
  },
  {
   "cell_type": "code",
   "execution_count": null,
   "id": "259f7b98",
   "metadata": {},
   "outputs": [],
   "source": []
  }
 ],
 "metadata": {
  "kernelspec": {
   "display_name": "Python 3",
   "language": "python",
   "name": "python3"
  },
  "language_info": {
   "codemirror_mode": {
    "name": "ipython",
    "version": 3
   },
   "file_extension": ".py",
   "mimetype": "text/x-python",
   "name": "python",
   "nbconvert_exporter": "python",
   "pygments_lexer": "ipython3",
   "version": "3.11.9"
  }
 },
 "nbformat": 4,
 "nbformat_minor": 5
}
